{
 "cells": [
  {
   "cell_type": "code",
   "execution_count": null,
   "metadata": {},
   "outputs": [],
   "source": [
    "conda list #optional: gives the list of packages installed"
   ]
  },
  {
   "cell_type": "code",
   "execution_count": null,
   "metadata": {},
   "outputs": [],
   "source": [
    "!conda install -c conda-forge/label/gcc7 nodejs\n",
    "!jupyter labextension install jupyterlab-plotly@4.11.0"
   ]
  },
  {
   "cell_type": "code",
   "execution_count": null,
   "metadata": {},
   "outputs": [],
   "source": [
    "import os\n",
    "import numpy as np\n",
    "import pandas as pd\n",
    "import pydicom as dcm\n",
    "import matplotlib\n",
    "matplotlib.rcParams['animation.embed_limit'] = 2**128\n",
    "import plotly.express as px\n",
    "import matplotlib.pyplot as plt\n",
    "import seaborn as sns\n",
    "import glob\n",
    "import gdcm\n",
    "from matplotlib import animation, rc\n",
    "from plotly.subplots import make_subplots\n",
    "import plotly.graph_objs as go\n",
    "\n",
    "train_dir = \"/scratch/tomar.y/kaggle/train\"\n",
    "files = glob.glob(\"/scratch/tomar.y/kaggle/train/*/*/*.dcm\")\n",
    "\n",
    "rc('animation', html='jshtml')\n",
    "\n",
    "np.random.seed(666)"
   ]
  },
  {
   "cell_type": "code",
   "execution_count": null,
   "metadata": {},
   "outputs": [],
   "source": [
    "train = pd.read_csv(\"/scratch/tomar.y/kaggle/train.csv\")\n",
    "test = pd.read_csv(\"/scratch/tomar.y/kaggle/test.csv\")"
   ]
  },
  {
   "cell_type": "code",
   "execution_count": null,
   "metadata": {},
   "outputs": [],
   "source": [
    "train"
   ]
  },
  {
   "cell_type": "markdown",
   "metadata": {},
   "source": [
    "**********************************************************Exploratory Data Analysis***********************************************************************"
   ]
  },
  {
   "cell_type": "code",
   "execution_count": null,
   "metadata": {},
   "outputs": [],
   "source": [
    "cols = [\n",
    "    'pe_present_on_image','negative_exam_for_pe', 'qa_motion',\n",
    "    'qa_contrast', 'flow_artifact', 'rv_lv_ratio_gte_1',\n",
    "    'rv_lv_ratio_lt_1', 'leftsided_pe', 'chronic_pe',\n",
    "    'true_filling_defect_not_pe', 'rightsided_pe',\n",
    "    'acute_and_chronic_pe', 'central_pe', 'indeterminate'\n",
    "]\n",
    "\n",
    "fig = make_subplots(rows=5, cols=3)\n",
    "\n",
    "traces = [\n",
    "    go.Bar(\n",
    "        x=[0,1],\n",
    "        y=[\n",
    "            len(train[train[col]==0]),\n",
    "            len(train[train[col]==1])\n",
    "        ],\n",
    "        name=col,\n",
    "        text = [\n",
    "            str(round(100 * len(train[train[col]==0]) / len(train), 2)) + '%',\n",
    "            str(round(100 * len(train[train[col]==1]) / len(train), 2)) + '%'\n",
    "        ],\n",
    "        textposition='auto'\n",
    "    ) for col in cols\n",
    "]\n",
    "\n",
    "for i in range(len(traces)):\n",
    "    fig.append_trace(traces[i], (i // 3) + 1, (i % 3) +1)\n",
    "    \n",
    "fig.update_layout(\n",
    "    title_text='Train Columns',\n",
    "    height=1200,\n",
    "    width=1000\n",
    ")\n",
    "\n",
    "fig.show()"
   ]
  },
  {
   "cell_type": "code",
   "execution_count": null,
   "metadata": {},
   "outputs": [],
   "source": [
    "x = train.drop(['StudyInstanceUID', 'SeriesInstanceUID', 'SOPInstanceUID'], axis=1).sum(axis=0).sort_values().reset_index()\n",
    "x.columns = ['column', 'nonzero_records']\n",
    "\n",
    "fig = px.bar(\n",
    "    x, \n",
    "    x='nonzero_records', \n",
    "    y='column', \n",
    "    orientation='h', \n",
    "    title='Columns and non zero samples', \n",
    "    height=800, \n",
    "    width=800\n",
    ")\n",
    "\n",
    "fig.show()"
   ]
  },
  {
   "cell_type": "code",
   "execution_count": null,
   "metadata": {},
   "outputs": [],
   "source": [
    "data = train.drop(['StudyInstanceUID', 'SeriesInstanceUID', 'SOPInstanceUID'], axis=1).astype(bool).sum(axis=1).reset_index()\n",
    "data.columns = ['row', 'count']\n",
    "data = data.groupby(['count'])['row'].count().reset_index()\n",
    "\n",
    "fig = px.bar(\n",
    "    data, \n",
    "    y=data['row'], \n",
    "    x=\"count\", \n",
    "    title='Number of activations in for every sample in training set', \n",
    "    width=800, \n",
    "    height=500\n",
    ")\n",
    "\n",
    "fig.show()"
   ]
  },
  {
   "cell_type": "code",
   "execution_count": null,
   "metadata": {},
   "outputs": [],
   "source": [
    "data = train.drop(['StudyInstanceUID', 'SeriesInstanceUID', 'SOPInstanceUID'], axis=1).astype(bool).sum(axis=1).reset_index()\n",
    "data.columns = ['row', 'count']\n",
    "data = data.groupby(['count'])['row'].count().reset_index()\n",
    "\n",
    "fig = px.pie(\n",
    "    data, \n",
    "    values=round((100 * data['row'] / len(train)), 2), \n",
    "    names=\"count\", \n",
    "    title='Number of activations for every sample (Percent)', \n",
    "    width=800, \n",
    "    height=500\n",
    ")\n",
    "\n",
    "fig.show()"
   ]
  },
  {
   "cell_type": "code",
   "execution_count": null,
   "metadata": {},
   "outputs": [],
   "source": [
    "data = train[[\n",
    "    'pe_present_on_image', 'negative_exam_for_pe', 'qa_motion', \n",
    "    'qa_contrast', 'flow_artifact', 'rv_lv_ratio_gte_1', \n",
    "    'rv_lv_ratio_lt_1', 'leftsided_pe', 'chronic_pe', \n",
    "    'true_filling_defect_not_pe', 'rightsided_pe', \n",
    "    'acute_and_chronic_pe', 'central_pe', 'indeterminate'\n",
    "]]\n",
    "\n",
    "f = plt.figure(figsize=(16, 16))\n",
    "plt.matshow(data.corr(), fignum=f.number)\n",
    "plt.xticks(range(data.shape[1]), data.columns, fontsize=13, rotation=70)\n",
    "plt.yticks(range(data.shape[1]), data.columns, fontsize=13)\n",
    "cb = plt.colorbar()\n",
    "cb.ax.tick_params(labelsize=13)"
   ]
  },
  {
   "cell_type": "code",
   "execution_count": null,
   "metadata": {},
   "outputs": [],
   "source": [
    "print('Total number (dirictories) in training set {}'.format(len(os.listdir(train_dir))))"
   ]
  },
  {
   "cell_type": "markdown",
   "metadata": {},
   "source": [
    "************************************************************Image Overview****************************************************************************"
   ]
  },
  {
   "cell_type": "code",
   "execution_count": null,
   "metadata": {},
   "outputs": [],
   "source": [
    "fig, ax = plt.subplots(figsize=(8, 8))\n",
    "ax.imshow(\n",
    "    dcm.dcmread(\"/scratch/tomar.y/kaggle/train/69b28bee6ef4/2d69fe0ea1b1/9a6d9044a729.dcm\").pixel_array\n",
    ")"
   ]
  },
  {
   "cell_type": "code",
   "execution_count": null,
   "metadata": {},
   "outputs": [],
   "source": [
    "test_image = dcm.dcmread(\"/scratch/tomar.y/kaggle/train/69b28bee6ef4/2d69fe0ea1b1/9a6d9044a729.dcm\").pixel_array\n",
    "print('Image shape: ', test_image.shape)"
   ]
  },
  {
   "cell_type": "code",
   "execution_count": null,
   "metadata": {},
   "outputs": [],
   "source": [
    "dcm.dcmread(\"/scratch/tomar.y/kaggle/train/69b28bee6ef4/2d69fe0ea1b1/9a6d9044a729.dcm\")"
   ]
  },
  {
   "cell_type": "code",
   "execution_count": null,
   "metadata": {},
   "outputs": [],
   "source": [
    "f, plots = plt.subplots(6, 6, sharex='col', sharey='row', figsize=(17, 17))\n",
    "\n",
    "for i in range(36):\n",
    "    plots[i // 6, i % 6].axis('off')\n",
    "    plots[i // 6, i % 6].imshow(dcm.dcmread(np.random.choice(files[:10000])).pixel_array)"
   ]
  },
  {
   "cell_type": "markdown",
   "metadata": {},
   "source": [
    "******************************************************Image Animation**********************************************************"
   ]
  },
  {
   "cell_type": "code",
   "execution_count": null,
   "metadata": {},
   "outputs": [],
   "source": [
    "def load_slice(path):\n",
    "    slices = [dcm.read_file(path + '/' + s) for s in os.listdir(path)]\n",
    "    slices.sort(key = lambda x: float(x.ImagePositionPatient[2]))\n",
    "    \n",
    "    try:\n",
    "        slice_thickness = np.abs(slices[0].ImagePositionPatient[2] - slices[1].ImagePositionPatient[2])\n",
    "    except:\n",
    "        slice_thickness = np.abs(slices[0].SliceLocation - slices[1].SliceLocation)\n",
    "        \n",
    "    for s in slices:\n",
    "        s.SliceThickness = slice_thickness\n",
    "        \n",
    "    return slices\n",
    "\n",
    "def transform_to_hu(slices):\n",
    "    images = np.stack([file.pixel_array for file in slices])\n",
    "    images = images.astype(np.int16)\n",
    "    images[images <= -1000] = 0\n",
    "\n",
    "    for n in range(len(slices)):\n",
    "        intercept = slices[n].RescaleIntercept\n",
    "        slope = slices[n].RescaleSlope\n",
    "        \n",
    "        if slope != 1:\n",
    "            images[n] = slope * images[n].astype(np.float64)\n",
    "            images[n] = images[n].astype(np.int16)\n",
    "            \n",
    "        images[n] += np.int16(intercept)\n",
    "    \n",
    "    return np.array(images, dtype=np.int16)"
   ]
  },
  {
   "cell_type": "code",
   "execution_count": null,
   "metadata": {},
   "outputs": [],
   "source": [
    "first_patient = load_slice('/scratch/tomar.y/kaggle/train/eac9014cea52/90cc14605905')\n",
    "first_patient_pixels = transform_to_hu(first_patient)\n",
    "\n",
    "fig, plots = plt.subplots(16, 10, sharex='col', sharey='row', figsize=(20, 25))\n",
    "\n",
    "for i in range(160):\n",
    "    plots[i // 10, i % 10].axis('off')\n",
    "    plots[i // 10, i % 10].imshow(first_patient_pixels[i], cmap=plt.cm.viridis) "
   ]
  },
  {
   "cell_type": "code",
   "execution_count": null,
   "metadata": {},
   "outputs": [],
   "source": [
    "scans = glob.glob('/scratch/tomar.y/kaggle/train/*/*/')\n",
    "print('Total number of scans: ', len(scans))"
   ]
  },
  {
   "cell_type": "code",
   "execution_count": null,
   "metadata": {},
   "outputs": [],
   "source": [
    "def read_scan(path):\n",
    "    fragments = glob.glob(path + '/*')\n",
    "    \n",
    "    slices = []\n",
    "    for f in fragments:\n",
    "        img = dcm.dcmread(f)\n",
    "        img_data = img.pixel_array\n",
    "        length = int(img.InstanceNumber)\n",
    "        slices.append((length, img_data))\n",
    "    slices.sort()\n",
    "    return [s[1] for s in slices]\n",
    "\n",
    "\n",
    "def animate(ims):\n",
    "    fig = plt.figure(figsize=(11, 11))\n",
    "    plt.axis('off')\n",
    "    im = plt.imshow(ims[0])\n",
    "\n",
    "    def animate_func(i):\n",
    "        im.set_array(ims[i])\n",
    "        return [im]\n",
    "\n",
    "    return animation.FuncAnimation(fig, animate_func, frames = len(ims), interval = 1000//24)\n"
   ]
  },
  {
   "cell_type": "code",
   "execution_count": null,
   "metadata": {},
   "outputs": [],
   "source": [
    "movie = animate(read_scan(scans[666]))"
   ]
  },
  {
   "cell_type": "code",
   "execution_count": null,
   "metadata": {},
   "outputs": [],
   "source": [
    "movie"
   ]
  },
  {
   "cell_type": "markdown",
   "metadata": {},
   "source": [
    "****Image Analysis***"
   ]
  },
  {
   "cell_type": "code",
   "execution_count": null,
   "metadata": {},
   "outputs": [],
   "source": [
    "plt.figure(figsize=(15,8))\n",
    "\n",
    "for n in range(100):\n",
    "    loaded = dcm.dcmread(np.random.choice(files[:]))\n",
    "    image = loaded.pixel_array.flatten()\n",
    "    rescaled_image = image * loaded.RescaleSlope + loaded.RescaleIntercept\n",
    "    sns.distplot(image.flatten())\n",
    "\n",
    "plt.title(\"HU unit distributions for 100 examples\")"
   ]
  },
  {
   "cell_type": "code",
   "execution_count": null,
   "metadata": {},
   "outputs": [],
   "source": [
    "scans = [dcm.dcmread(files[i]) for i in range(500)]"
   ]
  },
  {
   "cell_type": "code",
   "execution_count": null,
   "metadata": {},
   "outputs": [],
   "source": [
    "hu_scans = transform_to_hu(scans)"
   ]
  },
  {
   "cell_type": "code",
   "execution_count": null,
   "metadata": {},
   "outputs": [],
   "source": [
    "img = hu_scans[13]\n",
    "a = img.reshape((512, 512, 1))\n",
    "a = np.concatenate([a, a, a], axis=2)\n",
    "\n",
    "fig = make_subplots(1, 2)\n",
    "img = hu_scans[0]\n",
    "\n",
    "fig.add_trace(go.Image(z=a), 1, 1)\n",
    "fig.add_trace(go.Histogram(x=img.ravel(), opacity=1), 1, 2)\n",
    "\n",
    "fig.update_layout(\n",
    "    height=600, \n",
    "    width=800,\n",
    "    title='Image in HU and HU values distribution'\n",
    ")\n",
    "\n",
    "fig.show()"
   ]
  },
  {
   "cell_type": "code",
   "execution_count": null,
   "metadata": {},
   "outputs": [],
   "source": [
    "img = hu_scans[55]\n",
    "a = img.reshape((512, 512, 1))\n",
    "a = np.concatenate([a, a, a], axis=2)\n",
    "\n",
    "fig = make_subplots(1, 2)\n",
    "img = hu_scans[0]\n",
    "\n",
    "fig.add_trace(go.Image(z=a), 1, 1)\n",
    "fig.add_trace(go.Histogram(x=img.ravel(), opacity=1), 1, 2)\n",
    "fig.update_layout(\n",
    "    height=600, \n",
    "    width=800,\n",
    "    title='Image in HU and HU values distribution'\n",
    ")\n",
    "\n",
    "fig.show()"
   ]
  },
  {
   "cell_type": "code",
   "execution_count": null,
   "metadata": {},
   "outputs": [],
   "source": [
    "img = hu_scans[90]\n",
    "a = img.reshape((512, 512, 1))\n",
    "a = np.concatenate([a, a, a], axis=2)\n",
    "\n",
    "fig = make_subplots(1, 2)\n",
    "img = hu_scans[0]\n",
    "\n",
    "fig.add_trace(go.Image(z=a), 1, 1)\n",
    "fig.add_trace(go.Histogram(x=img.ravel(), opacity=1), 1, 2)\n",
    "\n",
    "fig.update_layout(\n",
    "    height=600, \n",
    "    width=800,\n",
    "    title='Image in HU and HU values distribution'\n",
    ")\n",
    "\n",
    "fig.show()\n"
   ]
  },
  {
   "cell_type": "markdown",
   "metadata": {},
   "source": [
    "***Metadata Analysis***"
   ]
  },
  {
   "cell_type": "code",
   "execution_count": null,
   "metadata": {},
   "outputs": [],
   "source": [
    "im_path = list()\n",
    "\n",
    "for i in os.listdir(train_dir): \n",
    "    for j in os.listdir(train_dir + '/' + i):\n",
    "        x = i+'/'+j\n",
    "        im_path.append(x)\n"
   ]
  },
  {
   "cell_type": "code",
   "execution_count": null,
   "metadata": {},
   "outputs": [],
   "source": [
    "pixelspacing_r = []\n",
    "pixelspacing_c = []\n",
    "rows = []\n",
    "columns = []\n",
    "ids = []\n",
    "slice_thicknesses = []\n",
    "kvp = []\n",
    "modality = []\n",
    "table_height = []\n",
    "x_ray = []\n",
    "exposure = []\n",
    "patient_position = []\n",
    "detector_tilt = []\n",
    "bits_allocated = []\n",
    "rescale_intercept = []\n",
    "rescale_slope = []\n",
    "photometric_interpretation = []\n",
    "convolution_kernel = [] \n",
    "\n",
    "for i in im_path:\n",
    "    ids.append(i.split('/')[0]+'_'+i.split('/')[1])\n",
    "    example_dcm = os.listdir(train_dir  + \"/\" + i + \"/\")[0]\n",
    "    dataset = dcm.dcmread(train_dir + \"/\" + i + \"/\" + example_dcm)\n",
    "\n",
    "    spacing = dataset.PixelSpacing\n",
    "    pixelspacing_r.append(spacing[0])\n",
    "    pixelspacing_c.append(spacing[1])\n",
    "    rows.append(dataset.Rows)\n",
    "    columns.append(dataset.Columns)\n",
    "    slice_thicknesses.append(dataset.SliceThickness)\n",
    "    kvp.append(dataset.KVP)\n",
    "    modality.append(dataset.Modality)\n",
    "    table_height.append(dataset.TableHeight)\n",
    "    x_ray.append(dataset.XRayTubeCurrent)\n",
    "    exposure.append(dataset.Exposure)\n",
    "    patient_position.append(dataset.PatientPosition)\n",
    "    detector_tilt.append(dataset.GantryDetectorTilt)\n",
    "    bits_allocated.append(dataset.BitsAllocated)\n",
    "    rescale_intercept.append(dataset.RescaleIntercept)\n",
    "    rescale_slope.append(dataset.RescaleSlope)\n",
    "    photometric_interpretation.append(dataset.PhotometricInterpretation)\n",
    "    convolution_kernel.append(dataset.ConvolutionKernel)\n",
    "    \n",
    "scan_properties = pd.DataFrame(data=ids, columns=[\"ID\"])\n",
    "scan_properties.loc[:, \"pixelspacing_r\"] = pixelspacing_r\n",
    "scan_properties.loc[:, \"pixelspacing_c\"] = pixelspacing_c\n",
    "scan_properties.loc[:, \"rows\"] = rows\n",
    "scan_properties.loc[:, \"columns\"] = columns\n",
    "scan_properties.loc[:, \"slice_thicknesses\"] = slice_thicknesses\n",
    "scan_properties.loc[:, \"kvp\"] = kvp\n",
    "scan_properties.loc[:, \"modality\"] = modality\n",
    "scan_properties.loc[:, \"table_height\"] = table_height\n",
    "scan_properties.loc[:, \"x_ray_tube_current\"] = x_ray\n",
    "scan_properties.loc[:, \"exposure\"] = exposure\n",
    "scan_properties.loc[:, \"patient_position\"] = patient_position\n",
    "scan_properties.loc[:, \"gantry/detector_tilt\"] = detector_tilt\n",
    "scan_properties.loc[:, \"bits_allocated\"] = bits_allocated\n",
    "scan_properties.loc[:, \"rescale_intercept\"] = rescale_intercept\n",
    "scan_properties.loc[:, \"rescale_slope\"] = rescale_slope\n",
    "scan_properties.loc[:, \"photometric_interpretation\"] = photometric_interpretation\n",
    "scan_properties.loc[:, \"convolution_kernel\"] = convolution_kernel\n",
    "\n",
    "scan_properties"
   ]
  },
  {
   "cell_type": "code",
   "execution_count": null,
   "metadata": {},
   "outputs": [],
   "source": [
    "print('Unique rows number: ', scan_properties['rows'].unique().tolist())\n",
    "print('Unique columns number: ', scan_properties['columns'].unique().tolist())"
   ]
  },
  {
   "cell_type": "code",
   "execution_count": null,
   "metadata": {},
   "outputs": [],
   "source": [
    "print('Number of inconsistencies in pixel spacing: ', len(scan_properties[scan_properties['pixelspacing_r'] != scan_properties['pixelspacing_c']]))"
   ]
  },
  {
   "cell_type": "code",
   "execution_count": null,
   "metadata": {},
   "outputs": [],
   "source": [
    "fig = px.histogram(\n",
    "    scan_properties, \n",
    "    \"pixelspacing_r\", \n",
    "    nbins=100, \n",
    "    title='Pixel spacing distribution', \n",
    "    width=700,\n",
    "    height=500\n",
    ")\n",
    "\n",
    "fig.show()"
   ]
  },
  {
   "cell_type": "code",
   "execution_count": null,
   "metadata": {},
   "outputs": [],
   "source": [
    "data = scan_properties['slice_thicknesses'].value_counts().reset_index()\n",
    "data.columns = ['slice_thicknesses', 'count']\n",
    "data['slice_thicknesses'] = 'st: ' + data['slice_thicknesses'].astype(str)\n",
    "\n",
    "fig = px.bar(\n",
    "    data, \n",
    "    x=\"slice_thicknesses\", \n",
    "    y=\"count\", \n",
    "    title='slice_thicknesses distribution', \n",
    "    width=700,\n",
    "    height=500,\n",
    ")\n",
    "\n",
    "fig.show()"
   ]
  },
  {
   "cell_type": "code",
   "execution_count": null,
   "metadata": {},
   "outputs": [],
   "source": [
    "data = scan_properties['kvp'].value_counts().reset_index()\n",
    "data.columns = ['kvp', 'count']\n",
    "data['kvp'] = 'kvp: ' + data['kvp'].astype(str)\n",
    "fig = px.bar(\n",
    "    data, \n",
    "    x=\"kvp\", \n",
    "    y=\"count\", \n",
    "    title='Peak kilovoltage distribution', \n",
    "    width=700,\n",
    "    height=500\n",
    ")\n",
    "fig.show()"
   ]
  },
  {
   "cell_type": "code",
   "execution_count": null,
   "metadata": {},
   "outputs": [],
   "source": [
    "fig = px.histogram(\n",
    "    scan_properties, \n",
    "    \"table_height\", \n",
    "    nbins=100, \n",
    "    title='Table_height distribution', \n",
    "    width=700,\n",
    "    height=500\n",
    ")\n",
    "\n",
    "fig.show()"
   ]
  },
  {
   "cell_type": "code",
   "execution_count": null,
   "metadata": {},
   "outputs": [],
   "source": [
    "\n",
    "\n",
    "fig = px.histogram(\n",
    "    scan_properties, \n",
    "    \"x_ray_tube_current\", \n",
    "    nbins=100, \n",
    "    title='x_ray_tube_current distribution', \n",
    "    width=700,\n",
    "    height=500\n",
    ")\n",
    "\n",
    "fig.show()\n"
   ]
  },
  {
   "cell_type": "code",
   "execution_count": null,
   "metadata": {},
   "outputs": [],
   "source": [
    "fig = px.histogram(\n",
    "    scan_properties, \n",
    "    \"exposure\", \n",
    "    nbins=100, \n",
    "    title='exposure distribution', \n",
    "    width=700,\n",
    "    height=500\n",
    ")\n",
    "fig.show()"
   ]
  },
  {
   "cell_type": "code",
   "execution_count": null,
   "metadata": {},
   "outputs": [],
   "source": [
    "data = scan_properties['patient_position'].value_counts().reset_index()\n",
    "data.columns = ['patient_position', 'count']\n",
    "\n",
    "fig = px.bar(\n",
    "    data, \n",
    "    x=\"patient_position\", \n",
    "    y=\"count\", \n",
    "    title='patient_position distribution', \n",
    "    width=700,\n",
    "    height=500\n",
    ")\n",
    "\n",
    "fig.show()"
   ]
  },
  {
   "cell_type": "code",
   "execution_count": null,
   "metadata": {},
   "outputs": [],
   "source": [
    "\n",
    "\n",
    "data = scan_properties[\"rescale_intercept\"].value_counts().reset_index()\n",
    "data.columns = [\"rescale_intercept\", 'count']\n",
    "fig = px.bar(\n",
    "    data, \n",
    "    x=\"rescale_intercept\", \n",
    "    y=\"count\", \n",
    "    title='\"rescale_intercept\" distribution', \n",
    "    width=700,\n",
    "    height=500\n",
    ")\n",
    "fig.show()\n",
    "\n"
   ]
  },
  {
   "cell_type": "markdown",
   "metadata": {},
   "source": [
    "\n",
    "\n",
    "    Specific Character Set (0008,0005)\n",
    "        Identifies the Character Set that expands or replaces the Basic Graphic Set (ISO 646) for values of Data Elements that have Value Representation of SH, LO, ST, PN, LT, UC or UT.\n",
    "\n",
    "    Image Type (0008,0008)\n",
    "        Contains the highest level summary of what is in the SOP Instance.\n",
    "\n",
    "    SOP Class UID (0008, 0016)\n",
    "        Uniquely identifies the SOP Class.\n",
    "\n",
    "    SOP Instance UID (0008, 0018)\n",
    "        Uniquely identifies the SOP Instance\n",
    "\n",
    "    Modality (0008, 0060)\n",
    "        Type of equipment that originally acquired the data used to create the images in this Series.\n",
    "            CT: Computed Tomography\n",
    "\n",
    "    Slice Thickness (0018, 0050)\n",
    "        Nominal slice thickness, in mm.\n",
    "\n",
    "    KVP (0018, 0060)\n",
    "        Peak kilo voltage output of the X-Ray generator used.\n",
    "\n",
    "    Gantry/Detector Tilt (0018, 1120)\n",
    "        The angle in degrees of the detector face relative to the patient's major (Head to Feet) axis (or the table supporting the patient). Positive tilt is towards the patient's feet.\n",
    "\n",
    "    Table Height (0018, 1130)\n",
    "        The distance in mm of the top of the patient table to the center of rotation; below the center is positive.\n",
    "\n",
    "    Rotation Direction (0018, 1140)\n",
    "        Direction of rotation of the source when relevant, about nearest principal axis of equipment.\n",
    "            CW: clockwise\n",
    "            CC: counter clockwise\n",
    "\n",
    "    X-Ray Tube Current (0018, 1151)\n",
    "        X-Ray Tube Current in mA.\n",
    "\n",
    "    Exposure (0018, 1152)\n",
    "        The exposure expressed in mAs, for example calculated from Exposure Time and X-Ray Tube Current.\n",
    "\n",
    "    Convolution Kernel (0018, 1210)\n",
    "        A label describing the convolution kernel or algorithm used to reconstruct the data.\n",
    "\n",
    "    Patient Position (0018, 5100)\n",
    "        Patient position descriptor relative to the equipment.\n",
    "\n",
    "    Study Instance UID (0020, 000d)\n",
    "        Unique identifier for the Study.\n",
    "\n",
    "    Series Instance UID (0020, 000e)\n",
    "        Unique identifier of the Series.\n",
    "\n",
    "    Series Number (0020, 0011)\n",
    "        A number that identifies this Series.\n",
    "\n",
    "    Instance Number (0020, 0013)\n",
    "        A number that identifies this image.\n",
    "\n",
    "    Image Position (Patient) (0020, 0032)\n",
    "        The x, y, and z coordinates of the upper left hand corner (center of the first voxel transmitted) of the image, in mm.\n",
    "\n",
    "    Image Orientation (Patient) (0020, 0037)\n",
    "        Specifies the direction cosines of the first row and the first column with respect to the patient. These Attributes shall be provide as a pair. Row value for the x, y, and z axes respectively followed by the Column value for the x, y, and z axes respectively.\n",
    "\n",
    "    Frame of Reference UID (0020, 0052)\n",
    "        Uniquely identifies the Frame of Reference for a Series.\n",
    "\n",
    "    Samples per Pixel (0028, 0002)\n",
    "        Number of samples (planes) in this image.\n",
    "\n",
    "    Photometric Interpretation (0028, 0004)\n",
    "        Specifies the intended interpretation of the pixel data.\n",
    "\n",
    "    Rows (0028, 0010)\n",
    "        Number of rows in the image.\n",
    "\n",
    "    Columns (0028, 0011)\n",
    "        Number of columns in the image.\n",
    "\n",
    "    Pixel Spacing (0028, 0030)\n",
    "        Physical distance in the patient between the center of each pixel, specified by a numeric pair - adjacent row spacing (delimiter) adjacent column spacing in mm.\n",
    "\n",
    "    Bits Allocated (0028, 0100)\n",
    "        Number of bits allocated for each pixel sample. Each sample shall have the same number of bits allocated. Bits Allocated (0028,0100) shall be either 1, or a multiple of 8.\n",
    "\n",
    "    Bits Stored (0028, 0101)\n",
    "        Number of bits stored for each pixel sample. Each sample shall have the same number of bits stored.\n",
    "\n",
    "    High Bit (0028, 0102)\n",
    "        Most significant bit for pixel sample data. Each sample shall have the same high bit. High Bit (0028,0102) shall be one less than Bits Stored (0028,0101).\n",
    "\n",
    "    Pixel Representation (0028, 0103)\n",
    "        Data representation of the pixel samples. Each sample shall have the same pixel representation.\n",
    "\n",
    "    Window Center (0028, 1050)\n",
    "        Defines a Window Center for display.\n",
    "\n",
    "    Window Width (0028, 1051)\n",
    "        Window Width for display.\n",
    "\n",
    "    Rescale Intercept (0028, 1052)\n",
    "        The value b in relationship between stored values (SV) and the output units.\n",
    "        Output units = m*SV+b\n",
    "        If Image Type (0008,0008) Value 1 is ORIGINAL and Value 3 is not LOCALIZER, and Multi-energy CT Acquisition (0018,9361) is either absent or NO, output units shall be Hounsfield Units (HU).\n",
    "\n",
    "    Rescale Slope (0028, 1053)\n",
    "        m in the equation specified in Rescale Intercept (0028,1052).\n",
    "\n",
    "    Pixel Data (7fe0, 0010)\n",
    "        A data stream of the pixel samples that comprise the Image.\n",
    "\n"
   ]
  }
 ],
 "metadata": {
  "kernelspec": {
   "display_name": "Python 3",
   "language": "python",
   "name": "python3"
  },
  "language_info": {
   "codemirror_mode": {
    "name": "ipython",
    "version": 3
   },
   "file_extension": ".py",
   "mimetype": "text/x-python",
   "name": "python",
   "nbconvert_exporter": "python",
   "pygments_lexer": "ipython3",
   "version": "3.7.9"
  }
 },
 "nbformat": 4,
 "nbformat_minor": 4
}
